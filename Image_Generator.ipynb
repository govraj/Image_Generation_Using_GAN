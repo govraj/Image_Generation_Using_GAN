{
  "nbformat": 4,
  "nbformat_minor": 0,
  "metadata": {
    "colab": {
      "name": "Image_Generator.ipynb",
      "provenance": [],
      "toc_visible": true
    },
    "kernelspec": {
      "name": "python3",
      "display_name": "Python 3"
    },
    "accelerator": "GPU"
  },
  "cells": [
    {
      "cell_type": "code",
      "metadata": {
        "id": "aLkEZrCzrKJW"
      },
      "source": [
        "import tensorflow as tf\r\n",
        "from tensorflow.keras.layers import(Dense,\r\n",
        "                                    BatchNormalization,\r\n",
        "                                    LeakyReLU,\r\n",
        "                                    Reshape,\r\n",
        "                                    Conv2DTranspose,\r\n",
        "                                    Conv2D,\r\n",
        "                                    Dropout,\r\n",
        "                                    Flatten)\r\n",
        "import matplotlib.pyplot as plt"
      ],
      "execution_count": null,
      "outputs": []
    },
    {
      "cell_type": "markdown",
      "metadata": {
        "id": "EbYKCz-s2fAj"
      },
      "source": [
        "# Load and Process the MNIST Dataset\r\n",
        "For this tutorial, we can use the MNIST dataset. The MNIST dataset contains 60,000 training images and 10,000 testing images taken from American Census Bureau employees and American high school students "
      ]
    },
    {
      "cell_type": "code",
      "metadata": {
        "id": "ayMmUrFbr6le"
      },
      "source": [
        "# underscore to omit the label arrays\r\n",
        "(train_images, train_labels), (_, _) = tf.keras.datasets.mnist.load_data() \r\n",
        "\r\n",
        "# train_images = train_images.reshape(-1, 3072)\r\n",
        "train_images = train_images.reshape(train_images.shape[0], 28, 28, 1).astype('float32')\r\n",
        "train_images = (train_images - 127.5) / 127.5 # Normalize the images to [-1, 1]\r\n",
        "\r\n",
        "BUFFER_SIZE = len(train_images)\r\n",
        "BATCH_SIZE = 256\r\n",
        "\r\n",
        "# Batch and shuffle the data\r\n",
        "train_dataset = tf.data.Dataset.from_tensor_slices(train_images).shuffle(BUFFER_SIZE).batch(BATCH_SIZE)"
      ],
      "execution_count": null,
      "outputs": []
    },
    {
      "cell_type": "code",
      "metadata": {
        "colab": {
          "base_uri": "https://localhost:8080/"
        },
        "id": "nEyDrWP5DsJi",
        "outputId": "ec372c79-8b72-446e-e812-d150f5048776"
      },
      "source": [
        "train_images.shape"
      ],
      "execution_count": null,
      "outputs": [
        {
          "output_type": "execute_result",
          "data": {
            "text/plain": [
              "(50000, 3072)"
            ]
          },
          "metadata": {
            "tags": []
          },
          "execution_count": 26
        }
      ]
    },
    {
      "cell_type": "markdown",
      "metadata": {
        "id": "GTg2rxdD3F39"
      },
      "source": [
        "# Build the Model\r\n",
        "As mentioned above, every GAN must have at least one generator and one discriminator. Since we are dealing with image data, we need to benefit from Convolution and Transposed Convolution (Inverse Convolution) layers in these networks. Let's define our generator and discriminator networks below."
      ]
    },
    {
      "cell_type": "markdown",
      "metadata": {
        "id": "w2R_orM43OKk"
      },
      "source": [
        "# Generator Network\r\n",
        "Our generator network is responsible for generating 28x28 pixels grayscale fake images from random noise. Therefore, it needs to accept 1-dimensional arrays and output 28x28 pixels images. For this task, we need Transposed Convolution layers after reshaping our 1-dimensional array to a 2-dimensional array. Transposed Convolution layers can increase the size of a smaller array. We also take advantage of BatchNormalization and LeakyReLU layers. The below lines create a function which would generate a generator network with Keras Sequential API:"
      ]
    },
    {
      "cell_type": "code",
      "metadata": {
        "id": "8kSzENIj2-RL"
      },
      "source": [
        "def make_generator_model():\r\n",
        "    model = tf.keras.Sequential()\r\n",
        "    model.add(Dense(7*7*256, use_bias=False, input_shape=(100,)))\r\n",
        "    model.add(BatchNormalization())\r\n",
        "    model.add(LeakyReLU())\r\n",
        "\r\n",
        "    model.add(Reshape((7, 7, 256)))\r\n",
        "    assert model.output_shape == (None, 7, 7, 256) # Note: None is the batch size\r\n",
        "\r\n",
        "    model.add(Conv2DTranspose(128, (5, 5), strides=(1, 1), padding='same', use_bias=False))\r\n",
        "    assert model.output_shape == (None, 7, 7, 128)\r\n",
        "    model.add(BatchNormalization())\r\n",
        "    model.add(LeakyReLU())\r\n",
        "\r\n",
        "    model.add(Conv2DTranspose(64, (5, 5), strides=(2, 2), padding='same', use_bias=False))\r\n",
        "    assert model.output_shape == (None, 14, 14, 64)\r\n",
        "    model.add(BatchNormalization())\r\n",
        "    model.add(LeakyReLU())\r\n",
        "\r\n",
        "    model.add(Conv2DTranspose(1, (5, 5), strides=(2, 2), padding='same', use_bias=False, activation='tanh'))\r\n",
        "    assert model.output_shape == (None, 28, 28, 1)\r\n",
        "\r\n",
        "    return model"
      ],
      "execution_count": null,
      "outputs": []
    },
    {
      "cell_type": "code",
      "metadata": {
        "id": "tuqEngew3wJO"
      },
      "source": [
        "generator = make_generator_model()"
      ],
      "execution_count": null,
      "outputs": []
    },
    {
      "cell_type": "code",
      "metadata": {
        "colab": {
          "base_uri": "https://localhost:8080/"
        },
        "id": "0zMdpiat33uT",
        "outputId": "4d706320-4882-4a91-9280-ebf861176810"
      },
      "source": [
        "print(generator)"
      ],
      "execution_count": null,
      "outputs": [
        {
          "output_type": "stream",
          "text": [
            "<tensorflow.python.keras.engine.sequential.Sequential object at 0x7faa51c2b748>\n"
          ],
          "name": "stdout"
        }
      ]
    },
    {
      "cell_type": "code",
      "metadata": {
        "colab": {
          "base_uri": "https://localhost:8080/",
          "height": 282
        },
        "id": "tcK8CQ1K37hW",
        "outputId": "4a0dcda4-82d2-4330-f882-30f4e030639b"
      },
      "source": [
        "# Create a random noise and generate a sample\r\n",
        "noise = tf.random.normal([1, 100])\r\n",
        "generated_image = generator(noise, training=False)\r\n",
        "# Visualize the generated sample\r\n",
        "plt.imshow(generated_image[0, :, :, 0], cmap='gray')"
      ],
      "execution_count": null,
      "outputs": [
        {
          "output_type": "execute_result",
          "data": {
            "text/plain": [
              "<matplotlib.image.AxesImage at 0x7fa9bb7fc5f8>"
            ]
          },
          "metadata": {
            "tags": []
          },
          "execution_count": 6
        },
        {
          "output_type": "display_data",
          "data": {
            "image/png": "[encoded data removed]",
            "text/plain": [
              "<Figure size 432x288 with 1 Axes>"
            ]
          },
          "metadata": {
            "tags": [],
            "needs_background": "light"
          }
        }
      ]
    },
    {
      "cell_type": "markdown",
      "metadata": {
        "id": "fu5JKP164Z-T"
      },
      "source": [
        "# Discriminator Network\r\n",
        "For our discriminator network, we need to follow the inverse version of our generator network. It takes the 28x28 pixels image data and outputs a single value, representing the possibility of authenticity. So, our discriminator can review whether a sample image generated by the generator is fake.\r\n",
        "We follow the same method that we used to create a generator network, The following lines create a function that would create a discriminator model using Keras Sequential API"
      ]
    },
    {
      "cell_type": "code",
      "metadata": {
        "id": "yIKRY3s74Ptn"
      },
      "source": [
        "def make_discriminator_model():\r\n",
        "    model = tf.keras.Sequential()\r\n",
        "    \r\n",
        "    model.add(Conv2D(64, (5, 5), strides=(2, 2), padding='same', input_shape=[28, 28, 1]))\r\n",
        "    model.add(LeakyReLU())\r\n",
        "    model.add(Dropout(0.3))\r\n",
        "\r\n",
        "    model.add(Conv2D(128, (5, 5), strides=(2, 2), padding='same'))\r\n",
        "    model.add(LeakyReLU())\r\n",
        "    model.add(Dropout(0.3))\r\n",
        "\r\n",
        "    model.add(Flatten())\r\n",
        "    model.add(Dense(1))\r\n",
        "\r\n",
        "    return model"
      ],
      "execution_count": null,
      "outputs": []
    },
    {
      "cell_type": "code",
      "metadata": {
        "id": "UdEcU-ht4o7p"
      },
      "source": [
        "discriminator = make_discriminator_model()"
      ],
      "execution_count": null,
      "outputs": []
    },
    {
      "cell_type": "code",
      "metadata": {
        "colab": {
          "base_uri": "https://localhost:8080/"
        },
        "id": "yJso3dCx4zda",
        "outputId": "f22cf3a3-c678-456a-c3b9-71e92b225d00"
      },
      "source": [
        "decision = discriminator(generated_image)\r\n",
        "print (decision)"
      ],
      "execution_count": null,
      "outputs": [
        {
          "output_type": "stream",
          "text": [
            "tf.Tensor([[-0.00339384]], shape=(1, 1), dtype=float32)\n"
          ],
          "name": "stdout"
        }
      ]
    },
    {
      "cell_type": "markdown",
      "metadata": {
        "id": "PDNjLH1R5T6O"
      },
      "source": [
        "# Configure the Model\r\n",
        "Since we are training two sub-networks inside a GAN network, we need to define two loss functions and two optimizers.\r\n",
        "Loss Functions: We start by creating a Binary Crossentropy object from tf.keras.losses module. We also set the from_logits parameter to True. After creating the object, we fill them with custom discriminator and generator loss functions. Our discriminator loss is calculated as a combination of (i) the discriminator’s predictions on real images to an array of ones and (ii) its predictions on generated images to an array of zeros. Our generator loss is calculated by measuring how well it was able to trick the discriminator. Therefore, we need to compare the discriminator’s decisions on the generated images to an array of 1s."
      ]
    },
    {
      "cell_type": "markdown",
      "metadata": {
        "id": "mhq_2Z2N5coK"
      },
      "source": [
        "# Optimizers: \r\n",
        "We also set two optimizers separately for generator and discriminator networks. We can use the Adam optimizer object from tf.keras.optimizers module."
      ]
    },
    {
      "cell_type": "code",
      "metadata": {
        "id": "NrfFaIao4-9P"
      },
      "source": [
        "# This method returns a helper function to compute cross entropy loss\r\n",
        "cross_entropy = tf.keras.losses.BinaryCrossentropy(from_logits=True)\r\n",
        "\r\n",
        "def discriminator_loss(real_output, fake_output):\r\n",
        "    real_loss = cross_entropy(tf.ones_like(real_output), real_output)\r\n",
        "    fake_loss = cross_entropy(tf.zeros_like(fake_output), fake_output)\r\n",
        "    total_loss = real_loss + fake_loss\r\n",
        "    return total_loss\r\n",
        "\r\n",
        "def generator_loss(fake_output):\r\n",
        "    return cross_entropy(tf.ones_like(fake_output), fake_output)\r\n",
        "\r\n",
        "generator_optimizer = tf.keras.optimizers.Adam(1e-4)\r\n",
        "discriminator_optimizer = tf.keras.optimizers.Adam(1e-4)"
      ],
      "execution_count": null,
      "outputs": []
    },
    {
      "cell_type": "markdown",
      "metadata": {
        "id": "WsjTfAwz57I6"
      },
      "source": [
        "# Set the Checkpoints\r\n",
        "We would like to have access to previous training steps and TensorFlow has an option for this: checkpoints. By setting a checkpoint directory, we can save our progress at every epoch. This will be especially useful when we restore our model from the last epoch. The following lines configure the training checkpoints by using the os library to set a path to save all the training steps"
      ]
    },
    {
      "cell_type": "code",
      "metadata": {
        "id": "RzzOnpU35o-b"
      },
      "source": [
        "import os\r\n",
        "\r\n",
        "checkpoint_dir = './training_checkpoints'\r\n",
        "checkpoint_prefix = os.path.join(checkpoint_dir, \"ckpt\")\r\n",
        "checkpoint = tf.train.Checkpoint(generator_optimizer=generator_optimizer,\r\n",
        "                                 discriminator_optimizer=discriminator_optimizer,\r\n",
        "                                 generator=generator,\r\n",
        "                                 discriminator=discriminator)"
      ],
      "execution_count": null,
      "outputs": []
    },
    {
      "cell_type": "markdown",
      "metadata": {
        "id": "RNYt_ZOE6J-A"
      },
      "source": [
        "# Train the Model\r\n",
        "Now our data ready, our model is created and configured. It is time to design our training loop. Note that at the moment, GANs require custom training loops and steps. I will try to make them as understandable as possible for you. Make sure that you read the code comments in the Github Gists.\r\n",
        "Let’s create some of the variables with the following lines:"
      ]
    },
    {
      "cell_type": "code",
      "metadata": {
        "id": "vx6AMDtX6D-o"
      },
      "source": [
        "EPOCHS = 80\r\n",
        "# We will reuse this seed overtime (so it's easier)\r\n",
        "# to visualize progress in the animated GIF)\r\n",
        "num_examples_to_generate = 16\r\n",
        "noise_dim = 100\r\n",
        "seed = tf.random.normal([num_examples_to_generate, noise_dim])"
      ],
      "execution_count": null,
      "outputs": []
    },
    {
      "cell_type": "markdown",
      "metadata": {
        "id": "vyvLFu8f6eB0"
      },
      "source": [
        "# Define the Training Step\r\n",
        "This is the most unusual part of our tutorial: We are setting a custom training step. After defining the custom train_step() function by annotating the tf.function module, our model will be trained based on the custom train_step() function we defined.\r\n",
        "The code below with excessive comments are for the training step. Please read the comments carefully:"
      ]
    },
    {
      "cell_type": "code",
      "metadata": {
        "id": "ZwDUGhVO6SO1"
      },
      "source": [
        "# tf.function annotation causes the function \r\n",
        "# to be \"compiled\" as part of the training\r\n",
        "@tf.function\r\n",
        "def train_step(images):\r\n",
        "  \r\n",
        "    # 1 - Create a random noise to feed it into the model\r\n",
        "    # for the image generation\r\n",
        "    noise = tf.random.normal([BATCH_SIZE, noise_dim])\r\n",
        "    \r\n",
        "    # 2 - Generate images and calculate loss values\r\n",
        "    # GradientTape method records operations for automatic differentiation.\r\n",
        "    with tf.GradientTape() as gen_tape, tf.GradientTape() as disc_tape:\r\n",
        "      generated_images = generator(noise, training=True)\r\n",
        "\r\n",
        "      real_output = discriminator(images, training=True)\r\n",
        "      fake_output = discriminator(generated_images, training=True)\r\n",
        "\r\n",
        "      gen_loss = generator_loss(fake_output)\r\n",
        "      disc_loss = discriminator_loss(real_output, fake_output)\r\n",
        "\r\n",
        "    # 3 - Calculate gradients using loss values and model variables\r\n",
        "    # \"gradient\" method computes the gradient using \r\n",
        "    # operations recorded in context of this tape (gen_tape and disc_tape).\r\n",
        "    \r\n",
        "    # It accepts a target (e.g., gen_loss) variable and \r\n",
        "    # a source variable (e.g.,generator.trainable_variables)\r\n",
        "    # target --> a list or nested structure of Tensors or Variables to be differentiated.\r\n",
        "    # source --> a list or nested structure of Tensors or Variables.\r\n",
        "    # target will be differentiated against elements in sources.\r\n",
        "\r\n",
        "    # \"gradient\" method returns a list or nested structure of Tensors  \r\n",
        "    # (or IndexedSlices, or None), one for each element in sources. \r\n",
        "    # Returned structure is the same as the structure of sources.\r\n",
        "    gradients_of_generator = gen_tape.gradient(gen_loss, \r\n",
        "                                               generator.trainable_variables)\r\n",
        "    gradients_of_discriminator = disc_tape.gradient(disc_loss, \r\n",
        "                                                discriminator.trainable_variables)\r\n",
        "    \r\n",
        "    # 4 - Process  Gradients and Run the Optimizer\r\n",
        "    # \"apply_gradients\" method processes aggregated gradients. \r\n",
        "    # ex: optimizer.apply_gradients(zip(grads, vars))\r\n",
        "    \"\"\"\r\n",
        "    Example use of apply_gradients:\r\n",
        "    grads = tape.gradient(loss, vars)\r\n",
        "    grads = tf.distribute.get_replica_context().all_reduce('sum', grads)\r\n",
        "    # Processing aggregated gradients.\r\n",
        "    optimizer.apply_gradients(zip(grads, vars), experimental_aggregate_gradients=False)\r\n",
        "    \"\"\"\r\n",
        "    generator_optimizer.apply_gradients(zip(gradients_of_generator, generator.trainable_variables))\r\n",
        "    discriminator_optimizer.apply_gradients(zip(gradients_of_discriminator, discriminator.trainable_variables))"
      ],
      "execution_count": null,
      "outputs": []
    },
    {
      "cell_type": "markdown",
      "metadata": {
        "id": "FQi9uobH7-VU"
      },
      "source": [
        "Now that we created our custom training step with tf.function annotation, we can define our train function for the training loop.\r\n",
        "# Define the Training Loop\r\n",
        "We define a function, named train, for our training loop. Not only we run a for loop to iterate our custom training step over the MNIST, but also do the following with a single function:\r\n",
        "During the Training:\r\n",
        "* Start recording time spent at the beginning of \r\n",
        "each epoch;\r\n",
        "* Produce GIF images and display them,\r\n",
        "* Save the model every five epochs as a checkpoint,\r\n",
        "* Print out the completed epoch time; and\r\n",
        "* Generate a final image in the end after the training is completed.\r\n",
        "\r\n",
        "The following lines with detailed comments, do all these tasks:"
      ]
    },
    {
      "cell_type": "code",
      "metadata": {
        "id": "2XBAGK-t7wvX"
      },
      "source": [
        "import time\r\n",
        "from IPython import display # A command shell for interactive computing in Python.\r\n",
        "\r\n",
        "def train(dataset, epochs):\r\n",
        "  # A. For each epoch, do the following:\r\n",
        "  for epoch in range(epochs):    \r\n",
        "    start = time.time()\r\n",
        "    # 1 - For each batch of the epoch, \r\n",
        "    for image_batch in dataset:\r\n",
        "      # 1.a - run the custom \"train_step\" function\r\n",
        "      # we just declared above\r\n",
        "      train_step(image_batch)\r\n",
        "\r\n",
        "    # 2 - Produce images for the GIF as we go\r\n",
        "    display.clear_output(wait=True)\r\n",
        "    generate_and_save_images(generator,\r\n",
        "                             epoch + 1,\r\n",
        "                             seed)\r\n",
        "\r\n",
        "    # 3 - Save the model every 5 epochs as \r\n",
        "    # a checkpoint, which we will use later\r\n",
        "    if (epoch + 1) % 5 == 0:\r\n",
        "      checkpoint.save(file_prefix = checkpoint_prefix)\r\n",
        "\r\n",
        "    # 4 - Print out the completed epoch no. and the time spent\r\n",
        "    print ('Time for epoch {} is {} sec'.format(epoch + 1, time.time()-start))\r\n",
        "\r\n",
        "  # B. Generate a final image after the training is completed\r\n",
        "  display.clear_output(wait=True)\r\n",
        "  generate_and_save_images(generator,\r\n",
        "                           epochs,\r\n",
        "                           seed)"
      ],
      "execution_count": null,
      "outputs": []
    },
    {
      "cell_type": "markdown",
      "metadata": {
        "id": "lbJE0wnI86N1"
      },
      "source": [
        "# Image Generation Function\r\n",
        "In the train function, there is a custom image generation function that we haven’t defined yet. Our image generation function does the following tasks:\r\n",
        "* Generate images by using the model;\r\n",
        "* Display the generated images in a 4x4 grid layout using matplotlib;\r\n",
        "* Save the final figure in the end\r\n",
        "\r\n",
        "The following lines are in charge of these tasks:"
      ]
    },
    {
      "cell_type": "code",
      "metadata": {
        "id": "hjZ93VmN80CH"
      },
      "source": [
        "def generate_and_save_images(model, epoch, test_input):\r\n",
        "  # Notice `training` is set to False.\r\n",
        "  # This is so all layers run in inference mode (batchnorm).\r\n",
        "  # 1 - Generate images\r\n",
        "  predictions = model(test_input, training=False)\r\n",
        "  # 2 - Plot the generated images\r\n",
        "  fig = plt.figure(figsize=(4,4))\r\n",
        "  for i in range(predictions.shape[0]):\r\n",
        "      plt.subplot(4, 4, i+1)\r\n",
        "      plt.imshow(predictions[i, :, :, 0] * 127.5 + 127.5, cmap='gray')\r\n",
        "      plt.axis('off')\r\n",
        "  # 3 - Save the generated images\r\n",
        "  plt.savefig('image_at_epoch_{:04d}.png'.format(epoch))\r\n",
        "  plt.show()"
      ],
      "execution_count": null,
      "outputs": []
    },
    {
      "cell_type": "markdown",
      "metadata": {
        "id": "UekDusFV9T1p"
      },
      "source": [
        "# Start the Training\r\n",
        "After training three complex functions, starting the training is fairly easy. Just call the train function with the below arguments:"
      ]
    },
    {
      "cell_type": "code",
      "metadata": {
        "colab": {
          "base_uri": "https://localhost:8080/",
          "height": 248
        },
        "id": "mLFkOVC19P1L",
        "outputId": "03489685-e68b-4984-bc95-ef6cacd6e641"
      },
      "source": [
        "train(train_dataset, EPOCHS)"
      ],
      "execution_count": null,
      "outputs": [
        {
          "output_type": "display_data",
          "data": {
            "image/png": "[encoded data removed]",
            "text/plain": [
              "<Figure size 288x288 with 16 Axes>"
            ]
          },
          "metadata": {
            "tags": [],
            "needs_background": "light"
          }
        }
      ]
    },
    {
      "cell_type": "markdown",
      "metadata": {
        "id": "-9lYt6qR-SnU"
      },
      "source": [
        "# Generate Digits\r\n",
        "Before generating new images, let's make sure we restore the values from the latest checkpoint with the following line:"
      ]
    },
    {
      "cell_type": "code",
      "metadata": {
        "colab": {
          "base_uri": "https://localhost:8080/"
        },
        "id": "ZcEJqQmg-Vv6",
        "outputId": "e9d787ba-13ef-4a79-9563-270ecba325b9"
      },
      "source": [
        "checkpoint.restore(tf.train.latest_checkpoint(checkpoint_dir))"
      ],
      "execution_count": null,
      "outputs": [
        {
          "output_type": "execute_result",
          "data": {
            "text/plain": [
              "<tensorflow.python.training.tracking.util.CheckpointLoadStatus at 0x7fa9ba799c50>"
            ]
          },
          "metadata": {
            "tags": []
          },
          "execution_count": 17
        }
      ]
    },
    {
      "cell_type": "markdown",
      "metadata": {
        "id": "cZKb4Yx1-amD"
      },
      "source": [
        "We can also view the evolution of our generative GAN model by viewing the generated 4x4 grid with 16 sample digits for any epoch with the following code:"
      ]
    },
    {
      "cell_type": "code",
      "metadata": {
        "colab": {
          "base_uri": "https://localhost:8080/",
          "height": 305
        },
        "id": "ad9h9JYl-wng",
        "outputId": "a97d7acc-3b9a-4f9e-bbad-fcd040ceadc7"
      },
      "source": [
        "# PIL is a library which may open different image file formats\r\n",
        "import PIL \r\n",
        "# Display a single image using the epoch number\r\n",
        "def display_image(epoch_no):\r\n",
        "  return PIL.Image.open('image_at_epoch_{:04d}.png'.format(epoch_no))\r\n",
        "display_image(43)"
      ],
      "execution_count": null,
      "outputs": [
        {
          "output_type": "execute_result",
          "data": {
            "image/png": "[encoded data removed]",
            "text/plain": [
              "<PIL.PngImagePlugin.PngImageFile image mode=RGBA size=288x288 at 0x7FA9BA7DB160>"
            ]
          },
          "metadata": {
            "tags": []
          },
          "execution_count": 18
        }
      ]
    },
    {
      "cell_type": "markdown",
      "metadata": {
        "id": "un5_eSEk_P-v"
      },
      "source": [
        "or better yet, let's create a GIF image visualizing the evolution of the samples generated by our GAN with the following code:"
      ]
    },
    {
      "cell_type": "code",
      "metadata": {
        "colab": {
          "base_uri": "https://localhost:8080/",
          "height": 305
        },
        "id": "Zp_8wwh6_SYA",
        "outputId": "9ba66fd0-cd67-4967-a3ec-c5dfaea54cc2"
      },
      "source": [
        "import glob # The glob module is used for Unix style pathname pattern expansion.\r\n",
        "import imageio # The library that provides an easy interface to read and write a wide range of image data\r\n",
        "\r\n",
        "anim_file = 'dcgan.gif'\r\n",
        "\r\n",
        "with imageio.get_writer(anim_file, mode='I') as writer:\r\n",
        "  filenames = glob.glob('image*.png')\r\n",
        "  filenames = sorted(filenames)\r\n",
        "  for filename in filenames:\r\n",
        "    image = imageio.imread(filename)\r\n",
        "    writer.append_data(image)\r\n",
        "  # image = imageio.imread(filename)\r\n",
        "  # writer.append_data(image)\r\n",
        "display.Image(open('dcgan.gif','rb').read())"
      ],
      "execution_count": null,
      "outputs": []
    },
    {
      "cell_type": "code",
      "metadata": {
        "id": "2kJCushCAtme"
      },
      "source": [
        ""
      ],
      "execution_count": null,
      "outputs": []
    }
  ]
}